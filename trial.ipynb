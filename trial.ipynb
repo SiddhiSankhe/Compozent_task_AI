{
 "cells": [
  {
   "cell_type": "code",
   "execution_count": 11,
   "metadata": {},
   "outputs": [
    {
     "name": "stdout",
     "output_type": "stream",
     "text": [
      "['samuel', 'is', 'dying', 'out', 'of', 'artherities.']\n"
     ]
    }
   ],
   "source": [
    "word = \"samuel is dying out of artherities.\"\n",
    "ls = (word.split())\n",
    "print(ls)"
   ]
  },
  {
   "cell_type": "code",
   "execution_count": 2,
   "metadata": {},
   "outputs": [
    {
     "name": "stdout",
     "output_type": "stream",
     "text": [
      "Word count saved to Write_filr.txt\n"
     ]
    }
   ],
   "source": [
    "def count_words(input_file, output_file):\n",
    "    try:\n",
    "        # Read the file\n",
    "        with open(input_file, 'r') as file:\n",
    "            text = file.read()\n",
    "\n",
    "        # Count the words\n",
    "        word_count = len(text.split())\n",
    "\n",
    "        # Write the result\n",
    "        with open(output_file, 'w') as file:\n",
    "            file.write(f\"Word count: \")\n",
    "\n",
    "        print(\"Word count saved to\", output_file)\n",
    "    except FileNotFoundError:\n",
    "        print(\"The file does not exist. Please check the file name.\")\n",
    "\n",
    "# Example usage\n",
    "count_words('speech.txt', 'Write_file.txt')\n"
   ]
  },
  {
   "cell_type": "code",
   "execution_count": null,
   "metadata": {},
   "outputs": [
    {
     "name": "stdout",
     "output_type": "stream",
     "text": [
      "\n",
      "--- Student Management System ---\n",
      "1. Add Student\n",
      "2. View Student\n",
      "3. Update Student\n",
      "4. Delete Student\n",
      "5. View All Students\n",
      "6. Exit\n"
     ]
    }
   ],
   "source": [
    "# Dictionary to store student data\n",
    "students = {\n",
    "    \"S101\": {\"name\": \"John Doe\", \"age\": 20, \"grades\": [85.5, 90.0, 78.0]},\n",
    "    \"S102\": {\"name\": \"Jane Smith\", \"age\": 22, \"grades\": [92.5, 88.0, 95.0]},\n",
    "    \"S103\": {\"name\": \"Tom Brown\", \"age\": 19, \"grades\": [76.0, 82.5, 88.0]},\n",
    "    \"S104\": {\"name\": \"Emily Davis\", \"age\": 21, \"grades\": [89.5, 91.0, 87.5]},\n",
    "    \"S105\": {\"name\": \"Michael Wilson\", \"age\": 23, \"grades\": [78.0, 80.5, 85.5]}\n",
    "}\n",
    "\n",
    "\n",
    "\n",
    "def create_student(student_id, name, age, grades):\n",
    "    \"\"\"Add a new student.\"\"\"\n",
    "    if student_id in students:\n",
    "        print(\"Student ID already exists!\")\n",
    "    else:\n",
    "        students[student_id] = {\"name\": name, \"age\": age, \"grades\": grades}\n",
    "        print(\"Student added successfully.\")\n",
    "\n",
    "def read_student(student_id):\n",
    "    \"\"\"Read student data.\"\"\"\n",
    "    if student_id in students:\n",
    "        student = students[student_id]\n",
    "        print(f\"ID: {student_id}, Name: {student['name']}, Age: {student['age']}, Grades: {student['grades']}\")\n",
    "    else:\n",
    "        print(\"Student not found.\")\n",
    "\n",
    "def update_student(student_id, name=None, age=None, grades=None):\n",
    "    \"\"\"Update student data.\"\"\"\n",
    "    if student_id in students:\n",
    "        if name:\n",
    "            students[student_id][\"name\"] = name\n",
    "        if age:\n",
    "            students[student_id][\"age\"] = age\n",
    "        if grades:\n",
    "            students[student_id][\"grades\"] = grades\n",
    "        print(\"Student updated successfully.\")\n",
    "    else:\n",
    "        print(\"Student not found.\")\n",
    "\n",
    "def delete_student(student_id):\n",
    "    \"\"\"Delete a student.\"\"\"\n",
    "    if student_id in students:\n",
    "        del students[student_id]\n",
    "        print(\"Student deleted successfully.\")\n",
    "    else:\n",
    "        print(\"Student not found.\")\n",
    "\n",
    "# Menu for CRUD operations\n",
    "while True:\n",
    "    print(\"\\n--- Student Management System ---\")\n",
    "    print(\"1. Add Student\")\n",
    "    print(\"2. View Student\")\n",
    "    print(\"3. Update Student\")\n",
    "    print(\"4. Delete Student\")\n",
    "    print(\"5. View All Students\")\n",
    "    print(\"6. Exit\")\n",
    "    \n",
    "    choice = input(\"Enter your choice: \")\n",
    "    \n",
    "    if choice == \"1\":\n",
    "        student_id = input(\"Enter student ID: \")\n",
    "        name = input(\"Enter name: \")\n",
    "        age = int(input(\"Enter age: \"))\n",
    "        grades = list(map(float, input(\"Enter grades (separated by spaces): \").split()))\n",
    "        create_student(student_id, name, age, grades)\n",
    "    elif choice == \"2\":\n",
    "        student_id = input(\"Enter student ID: \")\n",
    "        read_student(student_id)\n",
    "    elif choice == \"3\":\n",
    "        student_id = input(\"Enter student ID: \")\n",
    "        name = input(\"Enter new name (or press Enter to skip): \")\n",
    "        age = input(\"Enter new age (or press Enter to skip): \")\n",
    "        grades = input(\"Enter new grades (separated by spaces, or press Enter to skip): \")\n",
    "        age = int(age) if age else None\n",
    "        grades = list(map(float, grades.split())) if grades else None\n",
    "        update_student(student_id, name, age, grades)\n",
    "    elif choice == \"4\":\n",
    "        student_id = input(\"Enter student ID: \")\n",
    "        delete_student(student_id)\n",
    "    elif choice == \"5\":\n",
    "        if students:\n",
    "            for student_id, info in students.items():\n",
    "                print(f\"ID: {student_id}, Name: {info['name']}, Age: {info['age']}, Grades: {info['grades']}\")\n",
    "        else:\n",
    "            print(\"No students found.\")\n",
    "    elif choice == \"6\":\n",
    "        print(\"Exiting program.\")\n",
    "        break\n",
    "    else:\n",
    "        print(\"Invalid choice. Please try again.\")\n"
   ]
  },
  {
   "cell_type": "code",
   "execution_count": null,
   "metadata": {},
   "outputs": [],
   "source": []
  }
 ],
 "metadata": {
  "kernelspec": {
   "display_name": "Python 3",
   "language": "python",
   "name": "python3"
  },
  "language_info": {
   "codemirror_mode": {
    "name": "ipython",
    "version": 3
   },
   "file_extension": ".py",
   "mimetype": "text/x-python",
   "name": "python",
   "nbconvert_exporter": "python",
   "pygments_lexer": "ipython3",
   "version": "3.12.7"
  }
 },
 "nbformat": 4,
 "nbformat_minor": 2
}
